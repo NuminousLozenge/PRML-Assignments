{
 "cells": [
  {
   "cell_type": "code",
   "execution_count": 1,
   "id": "1dca072b-2dd8-4185-b459-7aab330aad3b",
   "metadata": {},
   "outputs": [],
   "source": [
    "import numpy as np\n",
    "import matplotlib.pyplot as plt\n",
    "import pandas as pd\n",
    "import json\n",
    "import os\n",
    "import re\n",
    "\n",
    "from matplotlib_venn import venn2\n",
    "from sklearn import svm\n",
    "from sklearn.model_selection import GridSearchCV\n",
    "plt.rcParams['figure.constrained_layout.use'] = True\n",
    "np.random.seed(seed=0)\n",
    "\n",
    "from feature_extraction import featureExtractor, encode_text, clean_text\n",
    "from naive_bayes import naiveBayes\n",
    "from decision_tree import decisionTree\n",
    "from ada_boost import adaBoost"
   ]
  },
  {
   "cell_type": "markdown",
   "id": "0c9e5735-bef1-4561-8454-ee07d61c4c5f",
   "metadata": {},
   "source": [
    "## Declare locations of training and test data"
   ]
  },
  {
   "cell_type": "code",
   "execution_count": 2,
   "id": "44eeaf52-6f5c-435d-9582-ff74e5dae468",
   "metadata": {},
   "outputs": [],
   "source": [
    "feature_set = 2\n",
    "train_file = f\"../data/enron_train_encode_f{feature_set}.csv\"\n",
    "train_encode_dict_file = f\"../data/enron_train_encode_dict_f{feature_set}.json\"\n",
    "\n",
    "test_folder = \"../test\""
   ]
  },
  {
   "cell_type": "markdown",
   "id": "72c7c218-e80c-4e57-b848-a75c2f85ea18",
   "metadata": {},
   "source": [
    "### Build test set from folder"
   ]
  },
  {
   "cell_type": "code",
   "execution_count": 3,
   "id": "d3656ca5-baa6-480a-8293-a7b1c81fbb94",
   "metadata": {},
   "outputs": [],
   "source": [
    "# read the encoding dict\n",
    "with open(train_encode_dict_file, 'r') as f:\n",
    "    train_encode_dict = json.load(f)\n",
    "\n",
    "# invert encoding dictionary for visuliazation\n",
    "inv_encode_dict = {val: key for key, val in train_encode_dict.items()}\n",
    "\n",
    "# get all numbers from the folder\n",
    "dir_list = os.listdir(test_folder)\n",
    "pattern = re.compile(r'email(\\d+)\\.txt')\n",
    "\n",
    "email_nums = []\n",
    "for fi in dir_list:\n",
    "    match = pattern.match(fi)\n",
    "    if match:\n",
    "        number = match.group(1)\n",
    "        email_nums.append(int(number))\n",
    "\n",
    "# it is assumed that \n",
    "# no numbers are skipped\n",
    "# and numbering starts from 0\n",
    "email_nums = sorted(email_nums)\n",
    "\n",
    "# read and encode all mails\n",
    "X_test = np.zeros((len(email_nums), len(train_encode_dict))).astype(int)\n",
    "\n",
    "for ni in email_nums:\n",
    "    with open(test_folder+f'/email{ni}.txt') as f:\n",
    "        msg = f.read()\n",
    "        X_test[ni] = encode_text(text = msg, enc_dict=train_encode_dict)\n",
    "\n",
    "# read labels\n",
    "# the file 'labels.csv'\n",
    "# has all the labels in order for each email\n",
    "y_test = np.loadtxt(test_folder+'/labels.csv', delimiter=',')"
   ]
  },
  {
   "cell_type": "code",
   "execution_count": 4,
   "id": "c675d766-3537-4ce1-b08b-4bb7e386322a",
   "metadata": {},
   "outputs": [],
   "source": [
    "y_pred_df = pd.DataFrame()\n",
    "y_pred_df[\"Given Label\"] = y_test"
   ]
  },
  {
   "cell_type": "markdown",
   "id": "0b0fa52c-7e41-47d2-9e2b-9cd093ed9ba5",
   "metadata": {},
   "source": [
    "## Naive Bayes"
   ]
  },
  {
   "cell_type": "code",
   "execution_count": 5,
   "id": "ebebfbcd-b59f-4ba8-9188-b957014f288a",
   "metadata": {},
   "outputs": [
    {
     "name": "stdout",
     "output_type": "stream",
     "text": [
      "0.9281183932346723\n"
     ]
    }
   ],
   "source": [
    "nb = naiveBayes(data_file=train_file, laplace_smoothing=True)\n",
    "nb.run()\n",
    "\n",
    "y_pred, accuracy = nb.predict(X_test=X_test, y_test=y_test)\n",
    "print(accuracy)\n",
    "\n",
    "y_pred[np.nonzero(y_pred != 1)] = 0\n",
    "y_pred_df[\"Naive Bayes\"] = y_pred"
   ]
  },
  {
   "cell_type": "markdown",
   "id": "c589e7a0-9286-4abd-88a6-6b30e588b209",
   "metadata": {},
   "source": [
    "## Decision Trees"
   ]
  },
  {
   "cell_type": "code",
   "execution_count": 6,
   "id": "ed9c0cf9-6db9-4f0a-b683-bc21476acfe2",
   "metadata": {},
   "outputs": [
    {
     "name": "stdout",
     "output_type": "stream",
     "text": [
      "0.8740561763817578\n"
     ]
    }
   ],
   "source": [
    "h = 6\n",
    "dt = decisionTree(data_file=train_file,\n",
    "                  max_depth=h)\n",
    "dt.run()\n",
    "dt.to_dot(save_file=f\"../outputs/decision_trees/dtree_depth{h}_f{feature_set}.dot\", labels=inv_encode_dict)\n",
    "\n",
    "y_pred, accuracy = dt.predict(X_test, y_test)\n",
    "print(accuracy)\n",
    "\n",
    "y_pred[np.nonzero(y_pred != 1)] = 0\n",
    "y_pred_df[f\"Decision Tree (height: {h})\"] = y_pred"
   ]
  },
  {
   "cell_type": "markdown",
   "id": "dbc72396-ad05-40a5-a2b7-146ed570e863",
   "metadata": {},
   "source": [
    "## ADA Boost"
   ]
  },
  {
   "cell_type": "code",
   "execution_count": 7,
   "id": "4f7e639b-5f64-4492-8584-c99b7a3f9f03",
   "metadata": {},
   "outputs": [
    {
     "name": "stdout",
     "output_type": "stream",
     "text": [
      "[0.79542045 0.52427047 0.81060954 0.30427914 0.22208145 0.10798814\n",
      " 0.53414173 0.1781495  0.25628897 0.71526886 0.05370458 0.20714148\n",
      " 0.15145912 0.04068696 0.19574141 0.35897186 0.17013321 0.05605259\n",
      " 0.15184544 0.22454109 0.11877324 0.05256866 0.25983784 0.19143051\n",
      " 0.04288071 0.05537085 0.34151319 0.23735915 0.03456161 0.16710361]\n",
      "0.9488070069465419\n"
     ]
    }
   ],
   "source": [
    "itr = 30\n",
    "h = 5\n",
    "\n",
    "at = adaBoost(data_file=train_file,\n",
    "              max_itr=itr,\n",
    "              max_tree_depth=h)\n",
    "at.run()\n",
    "\n",
    "y_pred, accuracy = at.predict(X_test, y_test)\n",
    "print(accuracy)\n",
    "\n",
    "y_pred[np.nonzero(y_pred != 1)] = 0\n",
    "y_pred_df[f\"ADA Boost (trees: {itr}, height: {h})\"] = y_pred"
   ]
  },
  {
   "cell_type": "markdown",
   "id": "030d75fd-ac8e-4c92-978b-5cdebf837a0f",
   "metadata": {},
   "source": [
    "## SVM"
   ]
  },
  {
   "cell_type": "code",
   "execution_count": 8,
   "id": "500a67e0-021f-4267-b12a-a032f5c8802e",
   "metadata": {},
   "outputs": [],
   "source": [
    "# load data\n",
    "data = np.loadtxt(train_file, delimiter=',')\n",
    "\n",
    "num_points = data.shape[0]\n",
    "dim = data.shape[1]-1\n",
    "\n",
    "# data points are in rows\n",
    "# features along columns\n",
    "X_train = data[:, 0:dim]\n",
    "y_train = data[:, dim].astype(int)"
   ]
  },
  {
   "cell_type": "markdown",
   "id": "3916c822-8c29-4042-9a24-4bd276654d1b",
   "metadata": {},
   "source": [
    "### Linear Kernel"
   ]
  },
  {
   "cell_type": "code",
   "execution_count": 9,
   "id": "818f9b07-671b-4339-a8d7-6a9b0877c4ee",
   "metadata": {},
   "outputs": [
    {
     "name": "stdout",
     "output_type": "stream",
     "text": [
      "0.9681365146481425\n"
     ]
    }
   ],
   "source": [
    "c = 1\n",
    "sv = svm.SVC(kernel='linear', C=c)\n",
    "sv.fit(X_train, y_train)\n",
    "\n",
    "y_pred = sv.predict(X_test)\n",
    "yt = y_test.copy()\n",
    "yt[np.nonzero(y_test != 1)] = -1\n",
    "accuracy = sv.score(X_test, yt)\n",
    "print(accuracy)\n",
    "\n",
    "y_pred[np.nonzero(y_pred != 1)] = 0\n",
    "y_pred_df[f\"SVM (kernel: linear, C: {c})\"] = y_pred"
   ]
  },
  {
   "cell_type": "markdown",
   "id": "5dda3240-18a2-4e7a-91d7-dd943c144222",
   "metadata": {},
   "source": [
    "### Radial Basis Function Kernel"
   ]
  },
  {
   "cell_type": "code",
   "execution_count": 10,
   "id": "ea60040a-5ee6-4562-9870-20be6dc42229",
   "metadata": {},
   "outputs": [
    {
     "name": "stdout",
     "output_type": "stream",
     "text": [
      "0.9519782543038356\n"
     ]
    }
   ],
   "source": [
    "c = 1\n",
    "sv = svm.SVC(kernel='rbf', C=c)\n",
    "sv.fit(X_train, y_train)\n",
    "\n",
    "y_pred = sv.predict(X_test)\n",
    "yt = y_test.copy()\n",
    "yt[np.nonzero(y_test != 1)] = -1\n",
    "accuracy = sv.score(X_test, yt)\n",
    "print(accuracy)\n",
    "\n",
    "y_pred[np.nonzero(y_pred != 1)] = 0\n",
    "y_pred_df[f\"SVM (kernel: rbf, C: {c})\"] = y_pred"
   ]
  },
  {
   "cell_type": "markdown",
   "id": "bfdaedcf-142f-4365-83c4-229ce03bc8dc",
   "metadata": {},
   "source": [
    "## Results"
   ]
  },
  {
   "cell_type": "code",
   "execution_count": 12,
   "id": "92308775-c100-41b0-9054-85d2fb955ab1",
   "metadata": {},
   "outputs": [],
   "source": [
    "y_pred_df.to_csv(f\"../outputs/predictions_f{feature_set}.csv\")"
   ]
  }
 ],
 "metadata": {
  "kernelspec": {
   "display_name": "pyfun_venv",
   "language": "python",
   "name": "pyfun_venv"
  },
  "language_info": {
   "codemirror_mode": {
    "name": "ipython",
    "version": 3
   },
   "file_extension": ".py",
   "mimetype": "text/x-python",
   "name": "python",
   "nbconvert_exporter": "python",
   "pygments_lexer": "ipython3",
   "version": "3.10.12"
  }
 },
 "nbformat": 4,
 "nbformat_minor": 5
}
